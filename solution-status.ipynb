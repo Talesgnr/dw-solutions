{
  "nbformat": 4,
  "nbformat_minor": 0,
  "metadata": {
    "colab": {
      "name": "Untitled0.ipynb",
      "provenance": [],
      "collapsed_sections": []
    },
    "kernelspec": {
      "name": "python3",
      "display_name": "Python 3"
    }
  },
  "cells": [
    {
      "cell_type": "code",
      "execution_count": 1,
      "metadata": {},
      "outputs": [],
      "source": [
        "import os\n",
        "import json\n",
        "import pandas as pd\n",
        "\n",
        "students = (\n",
        "  'mateus.pedro',\n",
        "  'vinicius.accioly',\n",
        "  'richard.sidney',\n",
        "  'joab.ferreira',\n",
        "  'ernandez.santos',\n",
        "  'maria.rebeca',\n",
        "  'hugo.oliveira',\n",
        "  'pablo.camilo',\n",
        "  'marcelo.junior',\n",
        "  'fernando.viana'\n",
        ")\n",
        "categories = ('back-end', 'front-end')\n",
        "status = {}\n",
        "\n",
        "for student in students:\n",
        "  status[student] = {}\n",
        "  for category in categories:\n",
        "    subcategories = os.listdir(category)\n",
        "    for subcategory in subcategories:\n",
        "      path = f'{category}/{subcategory}'\n",
        "      problems = os.listdir(path)\n",
        "      for problem in problems:\n",
        "        path = f'{category}/{subcategory}/{problem}/{student}'\n",
        "        status[student][f'{category}/{subcategory}/{problem}'] = os.path.isdir(path) or os.path.isfile(f'{path}.php')\n",
        "\n",
        "df = pd.DataFrame(status)"
      ]
    },
    {
      "cell_type": "code",
      "execution_count": 2,
      "metadata": {},
      "outputs": [
        {
          "data": {
            "text/plain": "pablo.camilo        3\nhugo.oliveira       3\nmaria.rebeca        3\nernandez.santos     3\njoab.ferreira       3\nvinicius.accioly    3\nmateus.pedro        3\nrichard.sidney      1\nfernando.viana      0\nmarcelo.junior      0\ndtype: int64"
          },
          "execution_count": 2,
          "metadata": {},
          "output_type": "execute_result"
        }
      ],
      "source": [
        "df[df==True].count(axis=0).sort_values(ascending=False)"
      ]
    },
    {
      "cell_type": "code",
      "execution_count": 3,
      "metadata": {},
      "outputs": [
        {
          "data": {
            "text/plain": "front-end/structure/man-ping          7\nfront-end/structure/first-web-page    7\nfront-end/style/hello-world-css       8\ndtype: int64"
          },
          "execution_count": 3,
          "metadata": {},
          "output_type": "execute_result"
        }
      ],
      "source": [
        "df[df==True].count(axis=1).sort_values(ascending=True)"
      ]
    },
    {
      "cell_type": "code",
      "execution_count": 4,
      "metadata": {},
      "outputs": [
        {
          "name": "stdout",
          "output_type": "stream",
          "text": "22\n"
        }
      ],
      "source": [
        "print(df[df==True].count().sum())"
      ]
    }
  ]
}